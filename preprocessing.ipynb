{
 "cells": [
  {
   "cell_type": "markdown",
   "id": "9a5ec38f",
   "metadata": {
    "hideCode": false,
    "hidePrompt": false
   },
   "source": [
    "# Tokenization"
   ]
  },
  {
   "cell_type": "code",
   "execution_count": 1,
   "id": "ac9a9693",
   "metadata": {
    "hideCode": false,
    "hidePrompt": false
   },
   "outputs": [
    {
     "data": {
      "text/plain": [
       "['This', 'is', 'a', 'simple', 'sentence.']"
      ]
     },
     "execution_count": 1,
     "metadata": {},
     "output_type": "execute_result"
    }
   ],
   "source": [
    "text = \"This is a simple sentence.\"\n",
    "text.split()"
   ]
  },
  {
   "cell_type": "code",
   "execution_count": 2,
   "id": "78f14a96",
   "metadata": {
    "hideCode": false,
    "hidePrompt": false
   },
   "outputs": [
    {
     "data": {
      "text/plain": [
       "['This', 'is', 'a', 'simple', 'sentence']"
      ]
     },
     "execution_count": 2,
     "metadata": {},
     "output_type": "execute_result"
    }
   ],
   "source": [
    "text.replace(\".\", \" \").split()"
   ]
  },
  {
   "cell_type": "code",
   "execution_count": 3,
   "id": "52cc3707",
   "metadata": {
    "hideCode": false,
    "hidePrompt": false
   },
   "outputs": [],
   "source": [
    "text = \"This is a simple sentence, isn't it?\""
   ]
  },
  {
   "cell_type": "code",
   "execution_count": 4,
   "id": "1b3f3a77",
   "metadata": {
    "hideCode": false,
    "hidePrompt": false
   },
   "outputs": [
    {
     "data": {
      "text/plain": [
       "['This', 'is', 'a', 'simple', 'sentence', '', \"isn't\", 'it', '']"
      ]
     },
     "execution_count": 4,
     "metadata": {},
     "output_type": "execute_result"
    }
   ],
   "source": [
    "from re import split\n",
    "split(\" |,|\\?\", text)"
   ]
  },
  {
   "cell_type": "code",
   "execution_count": 5,
   "id": "9cbcff1e",
   "metadata": {
    "hideCode": false,
    "hidePrompt": false
   },
   "outputs": [
    {
     "data": {
      "text/plain": [
       "['This', 'is', 'a', 'simple', 'sentence', ',', 'is', \"n't\", 'it', '?']"
      ]
     },
     "execution_count": 5,
     "metadata": {},
     "output_type": "execute_result"
    }
   ],
   "source": [
    "from nltk import word_tokenize\n",
    "\n",
    "word_tokenize(text)"
   ]
  },
  {
   "cell_type": "markdown",
   "id": "2e15d5f1",
   "metadata": {
    "hideCode": false,
    "hidePrompt": false
   },
   "source": [
    "# Stemming and Lemmatization"
   ]
  },
  {
   "cell_type": "code",
   "execution_count": 6,
   "id": "3e5e8f1e",
   "metadata": {
    "hideCode": false,
    "hidePrompt": false
   },
   "outputs": [],
   "source": [
    "import nltk\n",
    "# nltk.download(\"omw-1.4\")\n",
    "# nltk.download(\"punkt\")\n",
    "# nltk.download('averaged_perceptron_tagger')\n",
    "from nltk.stem import PorterStemmer\n",
    "from nltk.stem import WordNetLemmatizer\n",
    "from nltk.corpus import wordnet"
   ]
  },
  {
   "cell_type": "markdown",
   "id": "509c30dc",
   "metadata": {
    "hideCode": false,
    "hidePrompt": false
   },
   "source": [
    "### Stemming"
   ]
  },
  {
   "cell_type": "code",
   "execution_count": 7,
   "id": "ba5ddffd",
   "metadata": {
    "hideCode": false,
    "hidePrompt": false
   },
   "outputs": [],
   "source": [
    "stemmer = PorterStemmer()"
   ]
  },
  {
   "cell_type": "code",
   "execution_count": 8,
   "id": "f76bc475",
   "metadata": {
    "hideCode": false,
    "hidePrompt": false
   },
   "outputs": [
    {
     "data": {
      "text/plain": [
       "['word', 'word', 'walk', 'walk', 'walk', 'happi', 'happier']"
      ]
     },
     "execution_count": 8,
     "metadata": {},
     "output_type": "execute_result"
    }
   ],
   "source": [
    "words = [\"word\", \"words\", \"walk\", \"walks\", \"walking\", \"happy\", \"happier\"]\n",
    "[stemmer.stem(w) for w in words]"
   ]
  },
  {
   "cell_type": "code",
   "execution_count": 9,
   "id": "900ca4da",
   "metadata": {
    "hideCode": false,
    "hidePrompt": false
   },
   "outputs": [
    {
     "data": {
      "text/plain": [
       "'wa'"
      ]
     },
     "execution_count": 9,
     "metadata": {},
     "output_type": "execute_result"
    }
   ],
   "source": [
    "stemmer.stem(\"was\")"
   ]
  },
  {
   "cell_type": "code",
   "execution_count": 10,
   "id": "9166289c",
   "metadata": {
    "hideCode": false,
    "hidePrompt": false
   },
   "outputs": [
    {
     "data": {
      "text/plain": [
       "'better'"
      ]
     },
     "execution_count": 10,
     "metadata": {},
     "output_type": "execute_result"
    }
   ],
   "source": [
    "stemmer.stem(\"better\")"
   ]
  },
  {
   "cell_type": "markdown",
   "id": "ff022bb1",
   "metadata": {
    "hideCode": false,
    "hidePrompt": false
   },
   "source": [
    "### Lemmatization"
   ]
  },
  {
   "cell_type": "code",
   "execution_count": 11,
   "id": "116c570a",
   "metadata": {
    "hideCode": false,
    "hidePrompt": false
   },
   "outputs": [
    {
     "data": {
      "text/plain": [
       "['word', 'word', 'walk', 'walk', 'walking', 'happy', 'happier']"
      ]
     },
     "execution_count": 11,
     "metadata": {},
     "output_type": "execute_result"
    }
   ],
   "source": [
    "lemmatizer = WordNetLemmatizer()\n",
    "[lemmatizer.lemmatize(w) for w in words]"
   ]
  },
  {
   "cell_type": "code",
   "execution_count": 12,
   "id": "3d8ab297",
   "metadata": {
    "hideCode": false,
    "hidePrompt": false
   },
   "outputs": [
    {
     "data": {
      "text/plain": [
       "'happy'"
      ]
     },
     "execution_count": 12,
     "metadata": {},
     "output_type": "execute_result"
    }
   ],
   "source": [
    "lemmatizer.lemmatize(\"happier\", pos=wordnet.ADJ)"
   ]
  },
  {
   "cell_type": "code",
   "execution_count": 13,
   "id": "81a86d80",
   "metadata": {
    "hideCode": false,
    "hidePrompt": false,
    "scrolled": true
   },
   "outputs": [
    {
     "data": {
      "text/plain": [
       "'be'"
      ]
     },
     "execution_count": 13,
     "metadata": {},
     "output_type": "execute_result"
    }
   ],
   "source": [
    "lemmatizer.lemmatize(\"was\", pos=wordnet.VERB)"
   ]
  },
  {
   "cell_type": "code",
   "execution_count": 14,
   "id": "5b98bfca",
   "metadata": {
    "hideCode": false,
    "hidePrompt": false
   },
   "outputs": [
    {
     "name": "stdout",
     "output_type": "stream",
     "text": [
      "v\n"
     ]
    },
    {
     "data": {
      "text/plain": [
       "'be'"
      ]
     },
     "execution_count": 14,
     "metadata": {},
     "output_type": "execute_result"
    }
   ],
   "source": [
    "print(wordnet.VERB)\n",
    "lemmatizer.lemmatize(\"was\", pos=\"v\")"
   ]
  },
  {
   "cell_type": "markdown",
   "id": "65920c9d",
   "metadata": {
    "hideCode": false,
    "hidePrompt": false
   },
   "source": [
    "### Spaghetti of lexical categories"
   ]
  },
  {
   "cell_type": "code",
   "execution_count": 15,
   "id": "0a745bcb",
   "metadata": {
    "hideCode": false,
    "hidePrompt": false
   },
   "outputs": [
    {
     "data": {
      "text/html": [
       "<div>\n",
       "<style scoped>\n",
       "    .dataframe tbody tr th:only-of-type {\n",
       "        vertical-align: middle;\n",
       "    }\n",
       "\n",
       "    .dataframe tbody tr th {\n",
       "        vertical-align: top;\n",
       "    }\n",
       "\n",
       "    .dataframe thead th {\n",
       "        text-align: right;\n",
       "    }\n",
       "</style>\n",
       "<table border=\"1\" class=\"dataframe\">\n",
       "  <thead>\n",
       "    <tr style=\"text-align: right;\">\n",
       "      <th></th>\n",
       "      <th>nltk.pos_tag</th>\n",
       "      <th>wordnet.postag</th>\n",
       "      <th>string parameter</th>\n",
       "    </tr>\n",
       "  </thead>\n",
       "  <tbody>\n",
       "    <tr>\n",
       "      <th>0</th>\n",
       "      <td>JJ</td>\n",
       "      <td>ADJ</td>\n",
       "      <td>a</td>\n",
       "    </tr>\n",
       "    <tr>\n",
       "      <th>1</th>\n",
       "      <td>VB</td>\n",
       "      <td>VERB</td>\n",
       "      <td>v</td>\n",
       "    </tr>\n",
       "    <tr>\n",
       "      <th>2</th>\n",
       "      <td>RB</td>\n",
       "      <td>ADVERB</td>\n",
       "      <td>r</td>\n",
       "    </tr>\n",
       "    <tr>\n",
       "      <th>3</th>\n",
       "      <td>NN, PRP, etc.</td>\n",
       "      <td>NOUN</td>\n",
       "      <td>n</td>\n",
       "    </tr>\n",
       "  </tbody>\n",
       "</table>\n",
       "</div>"
      ],
      "text/plain": [
       "    nltk.pos_tag wordnet.postag string parameter\n",
       "0             JJ            ADJ                a\n",
       "1             VB           VERB                v\n",
       "2             RB         ADVERB                r\n",
       "3  NN, PRP, etc.           NOUN                n"
      ]
     },
     "execution_count": 15,
     "metadata": {},
     "output_type": "execute_result"
    }
   ],
   "source": [
    "from pandas import DataFrame\n",
    "\n",
    "DataFrame([[\"JJ\", \"ADJ\", \"a\"],\n",
    "           [\"VB\", \"VERB\", \"v\"],\n",
    "           [\"RB\", \"ADVERB\", \"r\"],\n",
    "           [\"NN, PRP, etc.\", \"NOUN\", \"n\"]],\n",
    "          columns=[\"nltk.pos_tag\", \"wordnet.postag\", \"string parameter\"])"
   ]
  },
  {
   "cell_type": "code",
   "execution_count": 16,
   "id": "d6d830f0",
   "metadata": {
    "code_folding": [],
    "hideCode": false,
    "hidePrompt": false
   },
   "outputs": [],
   "source": [
    "class Lemmatizer(WordNetLemmatizer):\n",
    "    \n",
    "    def __init__(self):\n",
    "        self.POS_DICT = {\"J\": \"a\",\n",
    "                    \"V\": \"v\",\n",
    "                    \"N\": \"n\",\n",
    "                    \"R\": \"r\"\n",
    "                   }\n",
    "        \n",
    "    def __call__(self, text):\n",
    "        words = nltk.word_tokenize(text)\n",
    "        keys = [tag[1][0] for tag in nltk.pos_tag(words)]\n",
    "        pos_tags = [self.POS_DICT[k] if k in self.POS_DICT.keys() else \"n\" for k in keys]\n",
    "        lemmas = [self.lemmatize(word, tag) for (word, tag) in zip(words, pos_tags)]\n",
    "        return lemmas"
   ]
  },
  {
   "cell_type": "code",
   "execution_count": 17,
   "id": "059345ec",
   "metadata": {
    "hideCode": false,
    "hidePrompt": false
   },
   "outputs": [
    {
     "data": {
      "text/plain": [
       "\"A ball fell from a tree? Knocking on heaven's door? Open the door please Eye for an eye Donald Trump is closing the gates\""
      ]
     },
     "execution_count": 17,
     "metadata": {},
     "output_type": "execute_result"
    }
   ],
   "source": [
    "texts = ['A ball fell from a tree?', \"Knocking on heaven's door?\",\n",
    "         'Open the door please', 'Eye for an eye', 'Donald Trump is closing the gates']\n",
    "\n",
    "text = \" \".join(texts)\n",
    "text"
   ]
  },
  {
   "cell_type": "code",
   "execution_count": 18,
   "id": "1bf1367a",
   "metadata": {
    "hideCode": false,
    "hidePrompt": false
   },
   "outputs": [
    {
     "data": {
      "text/plain": [
       "['A',\n",
       " 'ball',\n",
       " 'fell',\n",
       " 'from',\n",
       " 'a',\n",
       " 'tree',\n",
       " '?',\n",
       " 'Knocking',\n",
       " 'on',\n",
       " 'heaven',\n",
       " \"'s\",\n",
       " 'door',\n",
       " '?',\n",
       " 'Open',\n",
       " 'the',\n",
       " 'door',\n",
       " 'please',\n",
       " 'Eye',\n",
       " 'for',\n",
       " 'an',\n",
       " 'eye',\n",
       " 'Donald',\n",
       " 'Trump',\n",
       " 'be',\n",
       " 'close',\n",
       " 'the',\n",
       " 'gate']"
      ]
     },
     "execution_count": 18,
     "metadata": {},
     "output_type": "execute_result"
    }
   ],
   "source": [
    "lemmatizer = Lemmatizer()\n",
    "lemmatizer(text)"
   ]
  },
  {
   "cell_type": "markdown",
   "id": "5f532c93",
   "metadata": {
    "hideCode": false,
    "hidePrompt": false
   },
   "source": [
    "# Stopwords"
   ]
  },
  {
   "cell_type": "code",
   "execution_count": 19,
   "id": "f1236f46",
   "metadata": {
    "hideCode": false,
    "hidePrompt": false
   },
   "outputs": [
    {
     "name": "stderr",
     "output_type": "stream",
     "text": [
      "[nltk_data] Downloading package stopwords to\n",
      "[nltk_data]     C:\\Users\\witen\\AppData\\Roaming\\nltk_data...\n",
      "[nltk_data]   Package stopwords is already up-to-date!\n"
     ]
    }
   ],
   "source": [
    "nltk.download(\"stopwords\")\n",
    "from nltk.corpus import stopwords"
   ]
  },
  {
   "cell_type": "code",
   "execution_count": 20,
   "id": "4c17df94",
   "metadata": {
    "hideCode": false,
    "hidePrompt": false
   },
   "outputs": [
    {
     "data": {
      "text/plain": [
       "['i', 'me', 'my', 'myself', 'we', 'our', 'ours', 'ourselves', 'you', \"you're\"]"
      ]
     },
     "execution_count": 20,
     "metadata": {},
     "output_type": "execute_result"
    }
   ],
   "source": [
    "stopwords.words(\"english\")[:10]"
   ]
  },
  {
   "cell_type": "code",
   "execution_count": 21,
   "id": "79348007",
   "metadata": {
    "hideCode": false,
    "hidePrompt": false
   },
   "outputs": [
    {
     "data": {
      "text/plain": [
       "['a',\n",
       " 'ahogy',\n",
       " 'ahol',\n",
       " 'aki',\n",
       " 'akik',\n",
       " 'akkor',\n",
       " 'alatt',\n",
       " 'által',\n",
       " 'általában',\n",
       " 'amely']"
      ]
     },
     "execution_count": 21,
     "metadata": {},
     "output_type": "execute_result"
    }
   ],
   "source": [
    "stopwords.words(\"hungarian\")[:10]"
   ]
  },
  {
   "cell_type": "markdown",
   "id": "a037e74f",
   "metadata": {
    "hideCode": false,
    "hidePrompt": false
   },
   "source": [
    "# Text Vectoriztaion"
   ]
  },
  {
   "cell_type": "code",
   "execution_count": 22,
   "id": "71bb0b35",
   "metadata": {
    "hideCode": false,
    "hidePrompt": false
   },
   "outputs": [],
   "source": [
    "import numpy as np\n",
    "import pandas as pd"
   ]
  },
  {
   "cell_type": "code",
   "execution_count": 23,
   "id": "f4353e47",
   "metadata": {
    "hideCode": false,
    "hidePrompt": false
   },
   "outputs": [
    {
     "data": {
      "text/plain": [
       "[['A', 'ball', 'fell', 'from', 'a', 'tree?'],\n",
       " ['Knocking', 'on', \"heaven's\", 'door?'],\n",
       " ['Open', 'the', 'door', 'please'],\n",
       " ['Eye', 'for', 'an', 'eye'],\n",
       " ['Donald', 'Trump', 'is', 'closing', 'the', 'gates']]"
      ]
     },
     "execution_count": 23,
     "metadata": {},
     "output_type": "execute_result"
    }
   ],
   "source": [
    "texts_split = [t.split() for t in texts]\n",
    "texts_split"
   ]
  },
  {
   "cell_type": "code",
   "execution_count": 24,
   "id": "41aa2bb7",
   "metadata": {
    "hideCode": false,
    "hidePrompt": false,
    "scrolled": true
   },
   "outputs": [
    {
     "ename": "AttributeError",
     "evalue": "'Lemmatizer' object has no attribute 'lemmatokenize'",
     "output_type": "error",
     "traceback": [
      "\u001b[1;31m---------------------------------------------------------------------------\u001b[0m",
      "\u001b[1;31mAttributeError\u001b[0m                            Traceback (most recent call last)",
      "Input \u001b[1;32mIn [24]\u001b[0m, in \u001b[0;36m<cell line: 1>\u001b[1;34m()\u001b[0m\n\u001b[1;32m----> 1\u001b[0m lemmatized \u001b[38;5;241m=\u001b[39m [lemmatizer\u001b[38;5;241m.\u001b[39mlemmatokenize(t) \u001b[38;5;28;01mfor\u001b[39;00m t \u001b[38;5;129;01min\u001b[39;00m texts]\n\u001b[0;32m      2\u001b[0m lemmatized\n",
      "Input \u001b[1;32mIn [24]\u001b[0m, in \u001b[0;36m<listcomp>\u001b[1;34m(.0)\u001b[0m\n\u001b[1;32m----> 1\u001b[0m lemmatized \u001b[38;5;241m=\u001b[39m [\u001b[43mlemmatizer\u001b[49m\u001b[38;5;241;43m.\u001b[39;49m\u001b[43mlemmatokenize\u001b[49m(t) \u001b[38;5;28;01mfor\u001b[39;00m t \u001b[38;5;129;01min\u001b[39;00m texts]\n\u001b[0;32m      2\u001b[0m lemmatized\n",
      "\u001b[1;31mAttributeError\u001b[0m: 'Lemmatizer' object has no attribute 'lemmatokenize'"
     ]
    }
   ],
   "source": [
    "lemmatized = [lemmatizer.lemmatokenize(t) for t in texts]\n",
    "lemmatized"
   ]
  },
  {
   "cell_type": "code",
   "execution_count": null,
   "id": "ec86ce83",
   "metadata": {
    "hideCode": false,
    "hidePrompt": false
   },
   "outputs": [],
   "source": [
    "tokens = word_tokenize(\" \".join(texts).lower())\n",
    "uniqs = list(set(tokens))\n",
    "uniqs"
   ]
  },
  {
   "cell_type": "code",
   "execution_count": null,
   "id": "f5fa9d6e",
   "metadata": {
    "hideCode": false,
    "hidePrompt": false
   },
   "outputs": [],
   "source": [
    "mat = np.zeros(shape=(len(texts), len(uniqs)))\n",
    "mat.shape"
   ]
  },
  {
   "cell_type": "code",
   "execution_count": null,
   "id": "e174c894",
   "metadata": {
    "hideCode": false,
    "hidePrompt": false
   },
   "outputs": [],
   "source": [
    "for i in range(mat.shape[0]):\n",
    "    for j in range(mat.shape[1]):\n",
    "        count = [l.lower() for l in lemmatized[i]].count(uniqs[j])\n",
    "        mat[i,j] = count\n",
    "\n",
    "pd.DataFrame(mat, columns=uniqs)"
   ]
  },
  {
   "cell_type": "markdown",
   "id": "b2410698",
   "metadata": {
    "hideCode": false,
    "hidePrompt": false
   },
   "source": [
    "## Sklearn's CountVectorizer"
   ]
  },
  {
   "cell_type": "code",
   "execution_count": null,
   "id": "46e61335",
   "metadata": {
    "hideCode": false,
    "hidePrompt": false
   },
   "outputs": [],
   "source": [
    "from sklearn.feature_extraction.text import CountVectorizer\n",
    "from nltk import word_tokenize"
   ]
  },
  {
   "cell_type": "code",
   "execution_count": null,
   "id": "24acb0c0",
   "metadata": {
    "hideCode": false,
    "hidePrompt": false
   },
   "outputs": [],
   "source": [
    "texts"
   ]
  },
  {
   "cell_type": "code",
   "execution_count": null,
   "id": "ccd74b81",
   "metadata": {
    "hideCode": false,
    "hidePrompt": false
   },
   "outputs": [],
   "source": [
    "vectorizer = CountVectorizer(stop_words=\"english\")\n",
    "mat = vectorizer.fit_transform(texts)\n",
    "\n",
    "pd.DataFrame(mat.toarray(), columns = vectorizer.get_feature_names_out())"
   ]
  },
  {
   "cell_type": "code",
   "execution_count": null,
   "id": "3abfc293",
   "metadata": {
    "hideCode": false,
    "hidePrompt": false
   },
   "outputs": [],
   "source": [
    "percent = (mat != 0).sum() / (mat.shape[0] * mat.shape[1])\n",
    "f\"{round(percent, 3)*100}% is not 0\""
   ]
  },
  {
   "cell_type": "markdown",
   "id": "eea16c07",
   "metadata": {
    "hideCode": false,
    "hidePrompt": false
   },
   "source": [
    "# Predicting outcome (SVM)"
   ]
  },
  {
   "cell_type": "code",
   "execution_count": null,
   "id": "9e03d694",
   "metadata": {
    "hideCode": false,
    "hidePrompt": false
   },
   "outputs": [],
   "source": [
    "from sklearn.model_selection import train_test_split\n",
    "from sklearn.svm import SVC\n",
    "from sklearn.metrics import confusion_matrix"
   ]
  },
  {
   "cell_type": "code",
   "execution_count": null,
   "id": "8e9fc01b",
   "metadata": {
    "hideCode": false,
    "hidePrompt": false
   },
   "outputs": [],
   "source": [
    "df = pd.read_csv(\"BBC News Train.csv\")\n",
    "X = df[\"Text\"]\n",
    "Y = df[\"Category\"]"
   ]
  },
  {
   "cell_type": "code",
   "execution_count": null,
   "id": "9e8b7d7b",
   "metadata": {
    "hideCode": false,
    "hidePrompt": false
   },
   "outputs": [],
   "source": [
    "X_train, X_test, Y_train, Y_test = train_test_split(X, Y, test_size=0.2)\n",
    "print(X_train.shape, x_test.shape)"
   ]
  },
  {
   "cell_type": "code",
   "execution_count": null,
   "id": "6cad7cd6",
   "metadata": {
    "hideCode": false,
    "hidePrompt": false
   },
   "outputs": [],
   "source": [
    "vectorizer = CountVectorizer(stop_words=\"english\")"
   ]
  },
  {
   "cell_type": "code",
   "execution_count": null,
   "id": "87f7860f",
   "metadata": {
    "hideCode": false,
    "hidePrompt": false
   },
   "outputs": [],
   "source": [
    "X_train = vectorizer.fit_transform(X_train)\n",
    "X_test = vectorizer.transform(X_test)"
   ]
  },
  {
   "cell_type": "code",
   "execution_count": null,
   "id": "32860c22",
   "metadata": {
    "hideCode": false,
    "hidePrompt": false
   },
   "outputs": [],
   "source": [
    "svm = SVC(kernel=\"linear\").fit(X_train, Y_train)"
   ]
  },
  {
   "cell_type": "code",
   "execution_count": null,
   "id": "376abe3d",
   "metadata": {
    "hideCode": false,
    "hidePrompt": false
   },
   "outputs": [],
   "source": [
    "svm.score(X_train, Y_train)"
   ]
  },
  {
   "cell_type": "code",
   "execution_count": null,
   "id": "d8af1bc0",
   "metadata": {
    "hideCode": false,
    "hidePrompt": false
   },
   "outputs": [],
   "source": [
    "svm.score(X_test, Y_test)"
   ]
  },
  {
   "cell_type": "code",
   "execution_count": null,
   "id": "06f7d63b",
   "metadata": {},
   "outputs": [],
   "source": [
    "y_pred = svm.predict(X_test)\n",
    "confusion_matrix(Y_test, y_pred, normalize=\"pred\")"
   ]
  },
  {
   "cell_type": "markdown",
   "id": "1119c6a9",
   "metadata": {},
   "source": [
    "## With lemmatization"
   ]
  },
  {
   "cell_type": "code",
   "execution_count": null,
   "id": "fd163dc1",
   "metadata": {},
   "outputs": [],
   "source": [
    "vectorizer = CountVectorizer(stop_words=\"english\", tokenizer=Lemmatizer())\n",
    "X_train_l = vectorizer.fit_transform(X_train)\n",
    "X_test_l = vectorizer.transform(X_test)"
   ]
  },
  {
   "cell_type": "code",
   "execution_count": null,
   "id": "031165d5",
   "metadata": {},
   "outputs": [],
   "source": [
    "svm2 = SVC(kernel=\"linear\").fit(X_train_l, Y_train)"
   ]
  },
  {
   "cell_type": "code",
   "execution_count": null,
   "id": "698ebeb6",
   "metadata": {},
   "outputs": [],
   "source": [
    "svm2.score(X_train_l, Y_train)"
   ]
  },
  {
   "cell_type": "code",
   "execution_count": null,
   "id": "2008c3a5",
   "metadata": {},
   "outputs": [],
   "source": [
    "svm2.score(X_test_l, Y_test)"
   ]
  },
  {
   "cell_type": "code",
   "execution_count": null,
   "id": "81b47f4a",
   "metadata": {},
   "outputs": [],
   "source": [
    "y_pred = svm2.predict(X_test_l)\n",
    "confusion_matrix(Y_test, y_pred, normalize=\"pred\")"
   ]
  },
  {
   "cell_type": "markdown",
   "id": "362ec720",
   "metadata": {},
   "source": [
    "## With stemming"
   ]
  },
  {
   "cell_type": "code",
   "execution_count": null,
   "id": "350ca005",
   "metadata": {},
   "outputs": [],
   "source": [
    "class Stemmer(nltk.stem.porter.PorterStemmer):\n",
    "    def __call__(self, text):\n",
    "        tokens = word_tokenize(text)\n",
    "        stemmed = [self.stem(t) for t in tokens]\n",
    "        return stemmed"
   ]
  },
  {
   "cell_type": "code",
   "execution_count": null,
   "id": "3fce4543",
   "metadata": {},
   "outputs": [],
   "source": [
    "vectorizer = CountVectorizer(stop_words=\"english\", tokenizer=Stemmer())\n",
    "X_train_s = vectorizer.fit_transform(X_train)\n",
    "X_test_s = vectorizer.transform(X_test)"
   ]
  },
  {
   "cell_type": "code",
   "execution_count": null,
   "id": "13cc9ad9",
   "metadata": {},
   "outputs": [],
   "source": [
    "svm3 = SVC(kernel=\"linear\").fit(X_train_s, Y_train)\n",
    "svm3.score(X_train_s, Y_train)"
   ]
  },
  {
   "cell_type": "code",
   "execution_count": null,
   "id": "3b230bc8",
   "metadata": {},
   "outputs": [],
   "source": [
    "svm3.score(X_test_s, Y_test)"
   ]
  },
  {
   "cell_type": "code",
   "execution_count": null,
   "id": "cd09c62e",
   "metadata": {},
   "outputs": [],
   "source": [
    "y_pred_s = svm3.predict(X_test_s)\n",
    "confusion_matrix(Y_test, y_pred_s, normalize=\"pred\")"
   ]
  },
  {
   "cell_type": "markdown",
   "id": "af27b67c",
   "metadata": {},
   "source": [
    "# Predicting unlabeled data"
   ]
  },
  {
   "cell_type": "code",
   "execution_count": null,
   "id": "48e098b1",
   "metadata": {
    "hideCode": false,
    "hidePrompt": false
   },
   "outputs": [],
   "source": [
    "test = pd.read_csv(\"BBC News Test.csv\")"
   ]
  },
  {
   "cell_type": "code",
   "execution_count": null,
   "id": "c84b3d90",
   "metadata": {},
   "outputs": [],
   "source": [
    "test"
   ]
  },
  {
   "cell_type": "code",
   "execution_count": null,
   "id": "abcc9b0f",
   "metadata": {
    "hideCode": false,
    "hidePrompt": false
   },
   "outputs": [],
   "source": [
    "test[\"Prediction\"] = svm3.predict(vectorizer.transform(test[\"Text\"]))"
   ]
  },
  {
   "cell_type": "code",
   "execution_count": null,
   "id": "ea7f0b91",
   "metadata": {},
   "outputs": [],
   "source": [
    "test"
   ]
  },
  {
   "cell_type": "code",
   "execution_count": null,
   "id": "376cc201",
   "metadata": {},
   "outputs": [],
   "source": []
  }
 ],
 "metadata": {
  "hide_code_all_hidden": false,
  "kernelspec": {
   "display_name": "Python 3 (ipykernel)",
   "language": "python",
   "name": "python3"
  },
  "language_info": {
   "codemirror_mode": {
    "name": "ipython",
    "version": 3
   },
   "file_extension": ".py",
   "mimetype": "text/x-python",
   "name": "python",
   "nbconvert_exporter": "python",
   "pygments_lexer": "ipython3",
   "version": "3.9.12"
  }
 },
 "nbformat": 4,
 "nbformat_minor": 5
}
